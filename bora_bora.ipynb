{
 "cells": [
  {
   "cell_type": "code",
   "execution_count": null,
   "metadata": {},
   "outputs": [],
   "source": [
    "import numpy as np\n",
    "import matplotlib.pyplot as plt\n",
    "import pandas\n",
    "from IPython.display import display, Math\n",
    "\n",
    "#alteração 2"
   ]
  },
  {
   "cell_type": "code",
   "execution_count": null,
   "metadata": {},
   "outputs": [],
   "source": [
    "def DeletarObj(nome, lum):\n",
    "    lum.select(nome)\n",
    "    lum.delete()"
   ]
  },
  {
   "cell_type": "code",
   "execution_count": null,
   "metadata": {},
   "outputs": [],
   "source": [
    "def CriarRect(nome, Xmin, Xmax, Y, Yspan, Zmin, Zmax, material, lum):\n",
    "    \n",
    "    lum.addrect()\n",
    "    lum.set({\n",
    "        \"name\": nome,\n",
    "        \"x min\": Xmin,\"y\": Y,\"z min\": Zmin,\n",
    "        \"x max\": Xmax, \"y span\": Yspan, \"z max\": Zmax,\n",
    "        \"material\": material\n",
    "        })"
   ]
  },
  {
   "cell_type": "code",
   "execution_count": null,
   "metadata": {},
   "outputs": [],
   "source": [
    "def CriarTP(nome, Xmin, Xmax, Y, Yspan1, Yspan2, Zmin, Zmax, material, lum):\n",
    "\n",
    "    X = (Xmin + Xmax)/2\n",
    "    Xspan = Xmax-Xmin\n",
    "    Z = (Zmin + Zmax)/2\n",
    "    Zspan = Zmax-Zmin\n",
    "\n",
    "    lum.addobject(\"linear_taper\")\n",
    "    lum.set({\n",
    "        \"name\": nome,\n",
    "        \"x\": X, \"y\": Y, \"z\": Z,\n",
    "        \"thickness\": Zspan, \n",
    "        \"angle_side\": 90, \n",
    "        \"width_l\": Yspan1,\n",
    "        \"width_r\": Yspan2,\n",
    "        \"len\": Xspan,\n",
    "        \"material\": material\n",
    "    })"
   ]
  },
  {
   "cell_type": "code",
   "execution_count": null,
   "metadata": {},
   "outputs": [],
   "source": [
    "def CriarMesh(nome, Xmin, Xmax, Ymin, Ymax, Zmin, Zmax, propX, propY, propZ, lum):\n",
    "    lum.addmesh()\n",
    "    lum.set({\n",
    "        \"name\": nome,\n",
    "        \"x min\": Xmin,\"y\": Y,\"z min\": Zmin,\n",
    "        \"x max\": Xmax, \"y span\": Yspan, \"z max\": Zmax,\n",
    "        \"set equivalent index\": True,\n",
    "        \"equivalent x index\": propX, \"equivalent y index\": propY, \"equivalent z index\": propZ\n",
    "    })\n"
   ]
  },
  {
   "cell_type": "code",
   "execution_count": null,
   "metadata": {},
   "outputs": [],
   "source": [
    "def altRect(nome, Xmin, Xmax, Y, Yspan, Zmin, Zmax, material, lum):\n",
    "    DeletarObj(nome, lum)\n",
    "    CriarRect(nome, Xmin, Xmax, Y, Yspan, Zmin, Zmax, material, lum)"
   ]
  },
  {
   "cell_type": "code",
   "execution_count": null,
   "metadata": {},
   "outputs": [],
   "source": [
    "def altTP(nome, Xmin, Xmax, Y, Yspan1, Yspan2, Zmin, Zmax, material, lum):\n",
    "    DeletarObj(nome, lum)\n",
    "    CriarTP(nome, Xmin, Xmax, Y, Yspan1, Yspan2, Zmin, Zmax, material, lum)"
   ]
  },
  {
   "cell_type": "code",
   "execution_count": null,
   "metadata": {},
   "outputs": [],
   "source": [
    "def altMesh(nome, Xmin, Xmax, Ymin, Ymax, Zmin, Zmax, propX, propY, propZ, lum):\n",
    "    DeletarObj(nome, lum)\n",
    "    CriarMesh(nome, Xmin, Xmax, Ymin, Ymax, Zmin, Zmax, propX, propY, propZ, lum)"
   ]
  },
  {
   "cell_type": "code",
   "execution_count": null,
   "metadata": {},
   "outputs": [],
   "source": [
    "\n",
    "inicioMMI = 0\n",
    "compMMI = 37.2947e-6\n",
    "largMMI = 6e-6\n",
    "zmin = 0\n",
    "zspan = 220e-9\n",
    "ycentro = 0\n",
    "\n",
    "\n",
    "largWG = .45e-6\n",
    "bufferWG = 4e-6\n",
    "compTP = 5e-6\n",
    "largTP = 0.609367e-6\n",
    "posSaida = 1.5e-6\n",
    "\n",
    "material = \"Si (Silicon) - Palik\";\n",
    "BGmaterial = \"SiO2 (Glass) - Palik\";\n",
    "\n",
    "\n",
    "inicTPS = compMMI + inicioMMI\n",
    "fimTPE = compTP + inicTPS\n",
    "fimTPS1 = compTP + inicTPS\n",
    "fimTPS2 = compTP + inicTPS\n",
    "fimTPS3 = compTP + inicTPS\n",
    "largTPE = largTP\n",
    "largTPS1 = largTP\n",
    "largTPS2 = largTP\n",
    "largTPS3 = largTP\n",
    "posSaida1 = ycentro + posSaida + 0.59e-6\n",
    "posSaida2 = ycentro\n",
    "posSaida3 = ycentro - posSaida - 0.55e-6\n",
    "\n"
   ]
  },
  {
   "cell_type": "code",
   "execution_count": null,
   "metadata": {},
   "outputs": [],
   "source": [
    "\n",
    "nmodosTP = 10\n",
    "nmodosMMI = 100\n",
    "mcy = 25\n",
    "mcz = 10"
   ]
  },
  {
   "cell_type": "code",
   "execution_count": null,
   "metadata": {},
   "outputs": [],
   "source": [
    "lum.switchtolayout()\n",
    "\n",
    "altRect(nomes[0], inicioMMI, compMMI, ycentro, largMMI, zmin, zspan, material, lum)\n",
    "altRect(nomes[1], inicioMMI-(compTP+bufferWG), inicioMMI, ycentro, largWG, zmin, zspan, material, lum)\n",
    "altRect(nomes[2], inicTPS, fimTPS1, posSaida1, largWG, zmin, zspan, material, lum)\n",
    "altRect(nomes[3], inicTPS, fimTPS2, posSaida2, largWG, zmin, zspan, material, lum)\n",
    "altRect(nomes[4], inicTPS, fimTPS3, posSaida3, largWG, zmin, zspan, material, lum)\n",
    "altTP(nomes[5], inicioMMI-compTP, inicioMMI, ycentro, largWG, largTPE, zmin, zspan, material, lum)\n",
    "altTP(nomes[6], inicTPS, fimTPS1, posSaida1, largTPS1, largWG, zmin, zspan, material, lum)\n",
    "altTP(nomes[7], inicTPS, fimTPS2, posSaida2, largTPS2, largWG, zmin, zspan, material, lum)\n",
    "altTP(nomes[8], inicTPS, fimTPS3, posSaida3, largTPS3, largWG, zmin, zspan, material, lum)\n",
    "\n"
   ]
  },
  {
   "cell_type": "code",
   "execution_count": null,
   "metadata": {},
   "outputs": [],
   "source": [
    "\n",
    "nomes = [[\"MMImeio\", \"Entrada\", \"Saida1\", \"Saida2\", \"Saida3\", \"EntradaTP\", \"Saida1TP\", \"Saida2TP\", \"Saida3TP\"], [\"mesh\"]]\n",
    "X = [[][]]"
   ]
  },
  {
   "cell_type": "code",
   "execution_count": null,
   "metadata": {},
   "outputs": [],
   "source": [
    "DeletarObj(\"EME\", lum)\n",
    "\n",
    "lum.addeme()\n",
    "lum.set({\n",
    "    \"allow custom eigensolver settings\":1, \n",
    "    \"display cells\":1, \n",
    "    \"number of cell groups\":3,\n",
    "\n",
    "    \"y min bc\": \"PML\",\n",
    "    \"y max bc\": \"PML\",\n",
    "    \"z min bc\": \"Symmetric\",\n",
    "    \"z max bc\": \"PML\"\n",
    "})\n",
    "\n",
    "lum.set({\n",
    "    \"mesh cells y\": mcy,\n",
    "    \"mesh cells z\": mcz,\n",
    "    \"group spans\": np.transpose([compTP, compMMI, compTP]),\n",
    "    \"cells\":np.transpose([ncellsTP, 1, ncellsTP]),\n",
    "    \"subcell method\":np.transpose([1, 0, 1]), # 0 = none,  1 = CVCS\n",
    "    \"modes\":np.transpose([nmodosTP, nmodosMMI, nmodosTP]),\n",
    "})\n",
    "\n",
    "lum.set({\n",
    "    \"x min\": inicioMMI-(compTP), \"y\":ycentro, \"z\": zmin+(zspan/2),\n",
    "    \"y span\": largMMI*1.25, \"z span\": zspan,\n",
    "})\n",
    "\n",
    "\n",
    "\n",
    "lum.set(\"background material\", BGmaterial)\n",
    "lum.select(\"EME::Ports::port_1\")\n",
    "lum.set({\n",
    "    \"port location\": \"right\",\n",
    "    \"use full simulation span\": 0,\n",
    "    \"y\": posSaida1, \"z\": zmin +(zspan/2),\n",
    "    \"y span\": 5e-6, \"z span\": 3e-6\n",
    "})\n",
    "lum.select(\"EME::Ports::port_2\")\n",
    "lum.set({\n",
    "    \"port location\": \"right\",\n",
    "    \"use full simulation span\": 0,\n",
    "    \"y\": posSaida2, \"z\": zmin +(zspan/2),\n",
    "    \"y span\": 5e-6, \"z span\": 3e-6\n",
    "})\n",
    "lum.select(\"EME::Ports::port_3\")\n",
    "lum.set({\n",
    "    \"port location\": \"right\",\n",
    "    \"use full simulation span\": 0,\n",
    "    \"y\": posSaida3, \"z\": zmin +(zspan/2),\n",
    "    \"y span\": 5e-6, \"z span\": 3e-6\n",
    "})\n"
   ]
  },
  {
   "cell_type": "code",
   "execution_count": null,
   "metadata": {},
   "outputs": [],
   "source": [
    "# Body config------------------------------------\n",
    "BdX_Span = 31.87e-6 # Body X Span\n",
    "BdY_Span = 6e-6 # Body y Span\n",
    "\n",
    "\n",
    "# Ports config-----------------------------------\n",
    "\n",
    "OutMx = [1.6e-6,-1.6e-6] # Array of output ports y positions (put 0 on first element to ignore this line)\n",
    "InMx = [0]               # Array of input ports y positions (put 0 on first element to ignore this line) \n",
    "\n",
    "# If the lines above has to be ignored, use these ones instead: \n",
    "InP = 1 # Number of Input ports\n",
    "OutP = 2 # Number of Output ports\n",
    "Asy = 0 # Force asymmetry on inputs ports auto-displacement (0 -> Symetry, 1 -> Asymmetry)\n",
    "         \n",
    "PYSpan_in = 12e-6 # Input Port Y Span \n",
    "PYSpan_out = 3e-6 # Output Port Y Span \n",
    "\n",
    "\n",
    "# Tappers config---------------------------------\n",
    "SetToTappers = 1 # Set tappers as inputs/outputs\n",
    "TLen = 4e-6 # Tapper Length\n",
    "TWidth = 1.1e-6 # Tapper Width\n",
    "\n",
    "\n",
    "# Mesh config------------------------------------\n",
    "MeshEnableIn = 0 # enable input mesh insertion\n",
    "MeshEnableOut = 1 # enable output mesh insertion\n",
    "MeshType = 1 # 0 for Override, 1 for Multipler\n",
    "\n",
    "MeshOver = [[0.05e-6,0.05e-6,0.05e-6] , [0.05e-6,0.05e-6,0.05e-6]] # Override mesh value dx,dy and dz ([[Input Mesh],[Output Mesh]])\n",
    "MeshMultiplier = [[2,2,2] , [4,4,4]] # Mesh multipler value dx,dy and dz ([[Input Mesh],[Output Mesh]])\n",
    "\n",
    "\n",
    "# EME config-------------------------------------\n",
    "EME_MC = 100 # Number of EME Mesh Cells (Y and Z)\n",
    "SideCells = 4 # Number of Cells on Input/Output groups"
   ]
  }
 ],
 "metadata": {
  "language_info": {
   "name": "python"
  },
  "orig_nbformat": 4
 },
 "nbformat": 4,
 "nbformat_minor": 2
}
