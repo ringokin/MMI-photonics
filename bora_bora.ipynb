{
 "cells": [
  {
   "cell_type": "code",
   "execution_count": null,
   "metadata": {},
   "outputs": [],
   "source": [
    "import numpy as np\n",
    "import matplotlib.pyplot as plt\n",
    "import pandas\n",
    "from IPython.display import display, Math"
   ]
  },
  {
   "cell_type": "code",
   "execution_count": null,
   "metadata": {},
   "outputs": [],
   "source": [
    "def RectInsert(nome, X, Xspan, Y, Yspan, Z, Zspan, material, lumerical):\n",
    "    \n",
    "    lumerical.switchtolayout()\n",
    "    lumerical.addrect()\n",
    "    lumerical.set({\"name\": nome,\n",
    "        \"x\":X,\"y\":Y,\"z\":Z,\n",
    "        \"x span\":Xspan, \"y span\":Yspan, \"z span\":Zspan,\n",
    "        \"material\":material\n",
    "        })"
   ]
  },
  {
   "cell_type": "code",
   "execution_count": null,
   "metadata": {},
   "outputs": [],
   "source": []
  },
  {
   "cell_type": "code",
   "execution_count": null,
   "metadata": {},
   "outputs": [],
   "source": [
    "\n",
    "nomes = [[\"MMImeio\", \"Entrada\", \"Saida1\", \"Saida2\", \"Saida3\", \"EntradaTP\", \"Saida1TP\", \"Saida2TP\", \"Saida3TP\"], [\"mash\"]]\n",
    "X = [[][]]"
   ]
  },
  {
   "cell_type": "code",
   "execution_count": null,
   "metadata": {},
   "outputs": [],
   "source": [
    "# Body config------------------------------------\n",
    "BdX_Span = 31.87e-6 # Body X Span\n",
    "BdY_Span = 6e-6 # Body y Span\n",
    "\n",
    "\n",
    "# Ports config-----------------------------------\n",
    "\n",
    "OutMx = [1.6e-6,-1.6e-6] # Array of output ports y positions (put 0 on first element to ignore this line)\n",
    "InMx = [0]               # Array of input ports y positions (put 0 on first element to ignore this line) \n",
    "\n",
    "# If the lines above has to be ignored, use these ones instead: \n",
    "InP = 1 # Number of Input ports\n",
    "OutP = 2 # Number of Output ports\n",
    "Asy = 0 # Force asymmetry on inputs ports auto-displacement (0 -> Symetry, 1 -> Asymmetry)\n",
    "         \n",
    "PYSpan_in = 12e-6 # Input Port Y Span \n",
    "PYSpan_out = 3e-6 # Output Port Y Span \n",
    "\n",
    "\n",
    "# Tappers config---------------------------------\n",
    "SetToTappers = 1 # Set tappers as inputs/outputs\n",
    "TLen = 4e-6 # Tapper Length\n",
    "TWidth = 1.1e-6 # Tapper Width\n",
    "\n",
    "\n",
    "# Mesh config------------------------------------\n",
    "MeshEnableIn = 0 # enable input mesh insertion\n",
    "MeshEnableOut = 1 # enable output mesh insertion\n",
    "MeshType = 1 # 0 for Override, 1 for Multipler\n",
    "\n",
    "MeshOver = [[0.05e-6,0.05e-6,0.05e-6] , [0.05e-6,0.05e-6,0.05e-6]] # Override mesh value dx,dy and dz ([[Input Mesh],[Output Mesh]])\n",
    "MeshMultiplier = [[2,2,2] , [4,4,4]] # Mesh multipler value dx,dy and dz ([[Input Mesh],[Output Mesh]])\n",
    "\n",
    "\n",
    "# EME config-------------------------------------\n",
    "EME_MC = 100 # Number of EME Mesh Cells (Y and Z)\n",
    "SideCells = 4 # Number of Cells on Input/Output groups"
   ]
  }
 ],
 "metadata": {
  "language_info": {
   "name": "python"
  },
  "orig_nbformat": 4
 },
 "nbformat": 4,
 "nbformat_minor": 2
}
