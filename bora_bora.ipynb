{
 "cells": [
  {
   "cell_type": "code",
   "execution_count": 1,
   "metadata": {},
   "outputs": [],
   "source": [
    "import numpy as np\n",
    "import matplotlib.pyplot as plt\n",
    "import pandas\n",
    "from IPython.display import display, Math\n",
    "\n",
    "###############################################################\n",
    "# LINUX PATH\n",
    "\n",
    "sys.path.append(\"/opt/lumerical/v221/api/python\") #Default linux lumapi path\n",
    "import lumapi\n",
    "sys.path.append(os.path.dirname(\"/home/fotonica04/Documentos/GitHub/MMI-photonics\")) #Current directory\n",
    "\n",
    "\n",
    "###############################################################\n",
    "# WINDOWS PATH\n",
    "\n",
    "# spec_win = importlib.util.spec_from_file_location('lumapi', 'C:\\\\Program Files\\\\Lumerical\\\\v202\\\\api\\\\python\\\\lumapi.py')\n",
    "# lumapi = importlib.util.module_from_spec(spec_win)\n",
    "# os.add_dll_directory(\"C:/Program Files/Lumerical/v202/api/python\")\n",
    "# sys.path.append(os.path.dirname('C:/Users/Caio/Documents/GitHub/Photonics-training/Projects/MMI/Lumericalfiles/'))\n",
    "# spec_win.loader.exec_module(lumapi)\n",
    "\n",
    "#alteração 2"
   ]
  },
  {
   "cell_type": "code",
   "execution_count": 2,
   "metadata": {},
   "outputs": [],
   "source": [
    "lum = lumapi.MODE(filename='MMI_sweep1.lms',hide=False) "
   ]
  },
  {
   "cell_type": "code",
   "execution_count": 3,
   "metadata": {},
   "outputs": [],
   "source": [
    "def DeletarObj(nome, lum):\n",
    "    lum.select(nome)\n",
    "    lum.delete()"
   ]
  },
  {
   "cell_type": "code",
   "execution_count": 4,
   "metadata": {},
   "outputs": [],
   "source": [
    "def CriarRect(nome, Xmin, Xmax, Y, Yspan, Zmin, Zmax, material, lum):\n",
    "    \n",
    "    lum.addrect()\n",
    "    lum.set({\n",
    "        \"name\": nome,\n",
    "        \"x min\": Xmin,\"y\": Y,\"z min\": Zmin,\n",
    "        \"x max\": Xmax, \"y span\": Yspan, \"z max\": Zmax,\n",
    "        \"material\": material\n",
    "        })"
   ]
  },
  {
   "cell_type": "code",
   "execution_count": 5,
   "metadata": {},
   "outputs": [],
   "source": [
    "def CriarTP(nome, Xmin, Xmax, Y, Yspan1, Yspan2, Zmin, Zmax, material, lum):\n",
    "\n",
    "    X = (Xmin + Xmax)/2\n",
    "    Xspan = Xmax-Xmin\n",
    "    Z = (Zmin + Zmax)/2\n",
    "    Zspan = Zmax-Zmin\n",
    "\n",
    "    lum.addobject(\"linear_taper\")\n",
    "    lum.set({\n",
    "        \"name\": nome,\n",
    "        \"x\": X, \"y\": Y, \"z\": Z,\n",
    "        \"thickness\": Zspan, \n",
    "        \"angle_side\": 90, \n",
    "        \"width_l\": Yspan1,\n",
    "        \"width_r\": Yspan2,\n",
    "        \"len\": Xspan,\n",
    "        \"material\": material\n",
    "    })"
   ]
  },
  {
   "cell_type": "code",
   "execution_count": 49,
   "metadata": {},
   "outputs": [],
   "source": [
    "def CriarMesh(nome, Xmin, Xmax, Y, Yspan, Zmin, Zmax, propY, propZ, lum):\n",
    "    lum.addmesh()\n",
    "    lum.set({\n",
    "        \"name\": nome,\n",
    "        \"x min\": Xmin, \"y\": Y, \"z min\": Zmin,\n",
    "        \"x max\": Xmax, \"y span\": Yspan, \"z max\": Zmax,\n",
    "        \"set equivalent index\": True, \"set mesh multiplier\": True,\n",
    "        \"override x mesh\": False, \"y mesh multiplier\": propY, \"z mesh multiplier\": propZ\n",
    "        })\n"
   ]
  },
  {
   "cell_type": "code",
   "execution_count": 7,
   "metadata": {},
   "outputs": [],
   "source": [
    "def altRect(nome, Xmin, Xmax, Y, Yspan, Zmin, Zmax, material, lum):\n",
    "    DeletarObj(nome, lum)\n",
    "    CriarRect(nome, Xmin, Xmax, Y, Yspan, Zmin, Zmax, material, lum)"
   ]
  },
  {
   "cell_type": "code",
   "execution_count": 8,
   "metadata": {},
   "outputs": [],
   "source": [
    "def altTP(nome, Xmin, Xmax, Y, Yspan1, Yspan2, Zmin, Zmax, material, lum):\n",
    "    DeletarObj(nome, lum)\n",
    "    CriarTP(nome, Xmin, Xmax, Y, Yspan1, Yspan2, Zmin, Zmax, material, lum)"
   ]
  },
  {
   "cell_type": "code",
   "execution_count": 24,
   "metadata": {},
   "outputs": [],
   "source": [
    "def altMesh(nome, Xmin, Xmax, Y, Yspan, Zmin, Zmax, propY, propZ, lum):\n",
    "    DeletarObj(nome, lum)\n",
    "    CriarMesh(nome, Xmin, Xmax, Y, Yspan, Zmin, Zmax, propY, propZ, lum)"
   ]
  },
  {
   "cell_type": "code",
   "execution_count": 59,
   "metadata": {},
   "outputs": [],
   "source": [
    "\n",
    "inicioMMI = 0\n",
    "compMMI = 37.2947e-6\n",
    "largMMI = 6e-6\n",
    "zmin = 0\n",
    "zspan = 220e-9\n",
    "ycentro = 0\n",
    "\n",
    "\n",
    "largWG = .45e-6\n",
    "bufferWG = 4e-6\n",
    "compTP = 5e-6\n",
    "largTP = 0.609367e-6\n",
    "posSaida = 1.5e-6\n",
    "\n",
    "material = \"Si (Silicon) - Palik\";\n",
    "BGmaterial = \"SiO2 (Glass) - Palik\";\n",
    "\n",
    "\n",
    "zmax = zmin + zspan\n",
    "inicTPS = compMMI + inicioMMI\n",
    "fimTPS = compTP + inicTPS\n",
    "fimTPS1 = compTP + inicTPS\n",
    "fimTPS2 = compTP + inicTPS\n",
    "fimTPS3 = compTP + inicTPS\n",
    "largTPE = largTP\n",
    "largTPS1 = largTP\n",
    "largTPS2 = largTP\n",
    "largTPS3 = largTP\n",
    "posSaida1 = ycentro + posSaida + 0.59e-6\n",
    "posSaida2 = ycentro\n",
    "posSaida3 = ycentro - posSaida - 0.55e-6\n",
    "\n"
   ]
  },
  {
   "cell_type": "code",
   "execution_count": 66,
   "metadata": {},
   "outputs": [],
   "source": [
    "nomes = [\"MMImeio\", \"Entrada\", \"Saida1\", \"Saida2\", \"Saida3\", \"EntradaTP\", \"Saida1TP\", \"Saida2TP\", \"Saida3TP\"]\n",
    "mesh = [\"meshE\", \"meshS1\", \"meshS2\", \"meshS3\"]\n",
    "\n",
    "ncellsTP = 16\n",
    "nmodosTP = 10\n",
    "nmodosMMI = 100\n",
    "mcy = 100\n",
    "mcz = 40\n",
    "\n",
    "meshY = 2\n",
    "meshZ = 4"
   ]
  },
  {
   "cell_type": "code",
   "execution_count": 67,
   "metadata": {},
   "outputs": [],
   "source": [
    "lum.switchtolayout()\n",
    "\n",
    "altRect(nomes[0], inicioMMI, compMMI, ycentro, largMMI, zmin, zmax, material, lum)\n",
    "altRect(nomes[1], inicioMMI-(compTP+bufferWG), inicioMMI, ycentro, largWG, zmin, zmax, material, lum)\n",
    "altRect(nomes[2], inicTPS, fimTPS1+bufferWG, posSaida1, largWG, zmin, zmax, material, lum)\n",
    "altRect(nomes[3], inicTPS, fimTPS2+bufferWG, posSaida2, largWG, zmin, zmax, material, lum)\n",
    "altRect(nomes[4], inicTPS, fimTPS3+bufferWG, posSaida3, largWG, zmin, zmax, material, lum)\n",
    "altTP(nomes[5], inicioMMI-compTP, inicioMMI, ycentro, largWG, largTPE, zmin, zmax, material, lum)\n",
    "altTP(nomes[6], inicTPS, fimTPS1, posSaida1, largTPS1, largWG, zmin, zmax, material, lum)\n",
    "altTP(nomes[7], inicTPS, fimTPS2, posSaida2, largTPS2, largWG, zmin, zmax, material, lum)\n",
    "altTP(nomes[8], inicTPS, fimTPS3, posSaida3, largTPS3, largWG, zmin, zmax, material, lum)\n",
    "\n"
   ]
  },
  {
   "cell_type": "code",
   "execution_count": 69,
   "metadata": {},
   "outputs": [],
   "source": [
    "lum.switchtolayout()\n",
    "DeletarObj(\"EME\", lum)\n",
    "\n",
    "lum.addeme()\n",
    "lum.set({\n",
    "    \"allow custom eigensolver settings\":1, \n",
    "    \"display cells\":1, \n",
    "    \"number of cell groups\":5,\n",
    "\n",
    "    \"y min bc\": \"PML\",\n",
    "    \"y max bc\": \"PML\",\n",
    "    \"z min bc\": \"Symmetric\",\n",
    "    \"z max bc\": \"PML\"\n",
    "})\n",
    "\n",
    "lum.set({\n",
    "    \"mesh cells y\": mcy,\n",
    "    \"mesh cells z\": mcz,\n",
    "    \"group spans\": np.transpose([compTP*0.25, compTP, compMMI, compTP, compTP*0.25]),\n",
    "    \"cells\":np.transpose([1, ncellsTP, 1, ncellsTP, 1]),\n",
    "    \"subcell method\":np.transpose([1, 1, 0, 1, 1]), # 0 = none,  1 = CVCS\n",
    "    \"modes\":np.transpose([nmodosTP, nmodosTP, nmodosMMI, nmodosTP, nmodosTP]),\n",
    "})\n",
    "\n",
    "lum.set({\n",
    "    \"x min\": inicioMMI-(compTP*1.25), \"y\":ycentro, \"z\": zmin+(zspan/2),\n",
    "    \"y span\": largMMI*1.25, \"z span\": zspan,\n",
    "})\n",
    "\n",
    "\n",
    "lum.set(\"background material\", BGmaterial)\n",
    "\n",
    "lum.addemeport()\n",
    "lum.addemeport()\n",
    "lum.select(\"EME::Ports::port_1\")\n",
    "lum.set({\n",
    "    \"port location\": \"left\",\n",
    "    \"use full simulation span\": 0,\n",
    "    \"y\": ycentro, \"z\": zmin +(zspan/2),\n",
    "    \"y span\": 5e-6, \"z span\": 3e-6\n",
    "})\n",
    "\n",
    "lum.select(\"EME::Ports::port_2\")\n",
    "lum.set({\n",
    "    \"port location\": \"right\",\n",
    "    \"use full simulation span\": 0,\n",
    "    \"y\": posSaida1, \"z\": zmin +(zspan/2),\n",
    "    \"y span\": 5e-6, \"z span\": 3e-6\n",
    "})\n",
    "lum.select(\"EME::Ports::port_3\")\n",
    "lum.set({\n",
    "    \"port location\": \"right\",\n",
    "    \"use full simulation span\": 0,\n",
    "    \"y\": posSaida2, \"z\": zmin +(zspan/2),\n",
    "    \"y span\": 5e-6, \"z span\": 3e-6\n",
    "})\n",
    "lum.select(\"EME::Ports::port_4\")\n",
    "lum.set({\n",
    "    \"port location\": \"right\",\n",
    "    \"use full simulation span\": 0,\n",
    "    \"y\": posSaida3, \"z\": zmin +(zspan/2),\n",
    "    \"y span\": 5e-6, \"z span\": 3e-6\n",
    "})"
   ]
  },
  {
   "cell_type": "code",
   "execution_count": 70,
   "metadata": {},
   "outputs": [],
   "source": [
    "lum.switchtolayout()\n",
    "altMesh(mesh[0], inicioMMI-compTP, inicioMMI, ycentro, largTPE, zmin, zmax, meshY, meshZ, lum)\n",
    "altMesh(mesh[1], inicTPS, fimTPS1, posSaida1, largTPS1, zmin, zmax, meshY, meshZ, lum)\n",
    "altMesh(mesh[2], inicTPS, fimTPS2, posSaida2, largTPS2, zmin, zmax, meshY, meshZ, lum)\n",
    "altMesh(mesh[3], inicTPS, fimTPS3, posSaida3, largTPS3, zmin, zmax, meshY, meshZ, lum)\n"
   ]
  },
  {
   "cell_type": "code",
   "execution_count": 71,
   "metadata": {},
   "outputs": [],
   "source": [
    "DeletarObj(\"monitor\", lum)\n",
    "lum.addemeprofile()\n",
    "lum.set({\n",
    "    \"x min\": inicioMMI-(compTP+bufferWG), \"x max\": fimTPS+bufferWG,\n",
    "    \"y\": ycentro, \"y span\": largMMI*1.25,\n",
    "    \"z\": (zmin+zmax)/2\n",
    "})"
   ]
  },
  {
   "cell_type": "code",
   "execution_count": 72,
   "metadata": {},
   "outputs": [],
   "source": [
    "lum.run()\n",
    "lum.emepropagate()"
   ]
  },
  {
   "cell_type": "code",
   "execution_count": 56,
   "metadata": {},
   "outputs": [
    {
     "data": {
      "image/png": "[encoded data removed]",
      "text/plain": [
       "<Figure size 576x432 with 2 Axes>"
      ]
     },
     "metadata": {
      "needs_background": "light"
     },
     "output_type": "display_data"
    }
   ],
   "source": [
    "\n",
    "\n",
    "campo = lum.getresult(\"monitor\", \"field profile\")\n",
    "x = campo[\"x\"]\n",
    "y = campo[\"y\"]\n",
    "E = campo[\"E\"]\n",
    "\n",
    "E = np.sqrt(E[:,:,0,:,0]**2 + E[:,:,0,:,1]**2 + E[:,:,0,:,2]**2)\n",
    "E = np.transpose(abs(E[:,:,0]))\n",
    "np.shape(x[:,0])\n",
    "\n",
    "plt.rcParams[\"figure.figsize\"] = (8,6)\n",
    "plt.pcolormesh(x[:,0]*1e6,y[:,0]*1e6,E,cmap = 'jet')\n",
    "plt.xlabel('Comprimento (μm)',fontsize=20)\n",
    "plt.ylabel('Largura (μm)',fontsize=20)\n",
    "plt.yticks(fontsize=15)\n",
    "plt.xticks(fontsize=15)\n",
    "cbar = plt.colorbar()\n",
    "cbar.ax.tick_params(labelsize=15)\n",
    "#plt.savefig('Imagens/E linear.png')\n",
    "\n"
   ]
  },
  {
   "cell_type": "code",
   "execution_count": null,
   "metadata": {},
   "outputs": [],
   "source": [
    "Elog = 10*np.log10(E)\n",
    "plt.rcParams[\"figure.figsize\"] = (8,6)\n",
    "plt.pcolormesh(x[:,0]*1e6,y[:,0]*1e6,Elog,cmap = 'jet',vmin=-30)\n",
    "plt.xlabel('Comprimento (μm)',fontsize=20)\n",
    "plt.ylabel('Largura (μm)',fontsize=20)\n",
    "plt.yticks(fontsize=15)\n",
    "plt.xticks(fontsize=15)\n",
    "cbar = plt.colorbar(label='dB')\n",
    "cbar.ax.tick_params(labelsize=15)\n",
    "plt.savefig('Imagens/E Log.png')"
   ]
  },
  {
   "cell_type": "code",
   "execution_count": null,
   "metadata": {},
   "outputs": [],
   "source": [
    "lum.setemeanalysis('wavelength sweep', 1)\n",
    "lum.setemeanalysis('start wavelength', 1.5e-6)\n",
    "lum.setemeanalysis('stop wavelength', 1.6e-6)\n",
    "lum.setemeanalysis('number of wavelength points', 64)\n",
    "\n",
    "lum.emesweep('wavelength sweep')\n",
    "\n",
    "onda = lum.getemesweep('S_wavelength_sweep')\n",
    "\n",
    "lmbd = onda['wavelength']*1e6\n",
    "\n",
    "s21 = abs(onda['s21'])**2\n",
    "s31 = abs(onda['s31'])**2\n",
    "s41 = abs(onda['s41'])**2\n",
    "\n",
    "plt.figure(figsize = (12,12))\n",
    "plt.plot(lmbd, 10*np.log10(s21), linewidth = 2, label = \"saida 1\")\n",
    "plt.plot(lmbd, 10*np.log10(s31), linewidth = 2, label = \"saida 2\")\n",
    "plt.plot(lmbd, 10*np.log10(s41), '--', linewidth = 2, label = \"saida 3\")\n",
    "plt.xlabel('λ (μm)', fontsize = 20)\n",
    "plt.ylabel('Transmissão (dB)', fontsize = 20)\n",
    "plt.xlim(1.45, 1.65)\n",
    "#plt.ylim(-9, -6)\n",
    "plt.legend(fontsize = 20)\n",
    "#plt.grid(True)\n",
    "#plt.savefig('Imagens/Wavelength sweep.png')"
   ]
  },
  {
   "cell_type": "code",
   "execution_count": null,
   "metadata": {},
   "outputs": [],
   "source": [
    "# Body config------------------------------------\n",
    "BdX_Span = 31.87e-6 # Body X Span\n",
    "BdY_Span = 6e-6 # Body y Span\n",
    "\n",
    "\n",
    "# Ports config-----------------------------------\n",
    "\n",
    "OutMx = [1.6e-6,-1.6e-6] # Array of output ports y positions (put 0 on first element to ignore this line)\n",
    "InMx = [0]               # Array of input ports y positions (put 0 on first element to ignore this line) \n",
    "\n",
    "# If the lines above has to be ignored, use these ones instead: \n",
    "InP = 1 # Number of Input ports\n",
    "OutP = 2 # Number of Output ports\n",
    "Asy = 0 # Force asymmetry on inputs ports auto-displacement (0 -> Symetry, 1 -> Asymmetry)\n",
    "         \n",
    "PYSpan_in = 12e-6 # Input Port Y Span \n",
    "PYSpan_out = 3e-6 # Output Port Y Span \n",
    "\n",
    "\n",
    "# Tappers config---------------------------------\n",
    "SetToTappers = 1 # Set tappers as inputs/outputs\n",
    "TLen = 4e-6 # Tapper Length\n",
    "TWidth = 1.1e-6 # Tapper Width\n",
    "\n",
    "\n",
    "# Mesh config------------------------------------\n",
    "MeshEnableIn = 0 # enable input mesh insertion\n",
    "MeshEnableOut = 1 # enable output mesh insertion\n",
    "MeshType = 1 # 0 for Override, 1 for Multipler\n",
    "\n",
    "MeshOver = [[0.05e-6,0.05e-6,0.05e-6] , [0.05e-6,0.05e-6,0.05e-6]] # Override mesh value dx,dy and dz ([[Input Mesh],[Output Mesh]])\n",
    "MeshMultiplier = [[2,2,2] , [4,4,4]] # Mesh multipler value dx,dy and dz ([[Input Mesh],[Output Mesh]])\n",
    "\n",
    "\n",
    "# EME config-------------------------------------\n",
    "EME_MC = 100 # Number of EME Mesh Cells (Y and Z)\n",
    "SideCells = 4 # Number of Cells on Input/Output groups"
   ]
  }
 ],
 "metadata": {
  "kernelspec": {
   "display_name": "Python 3.9.12 ('base')",
   "language": "python",
   "name": "python3"
  },
  "language_info": {
   "codemirror_mode": {
    "name": "ipython",
    "version": 3
   },
   "file_extension": ".py",
   "mimetype": "text/x-python",
   "name": "python",
   "nbconvert_exporter": "python",
   "pygments_lexer": "ipython3",
   "version": "3.9.12"
  },
  "orig_nbformat": 4,
  "vscode": {
   "interpreter": {
    "hash": "01b4b674cd42658a898577618beaa1a387393d7f026f84723d5d405e574265f4"
   }
  }
 },
 "nbformat": 4,
 "nbformat_minor": 2
}
